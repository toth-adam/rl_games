{
 "cells": [
  {
   "cell_type": "code",
   "execution_count": null,
   "metadata": {
    "collapsed": true
   },
   "outputs": [],
   "source": [
    "%matplotlib inline"
   ]
  },
  {
   "cell_type": "code",
   "execution_count": null,
   "metadata": {
    "collapsed": false
   },
   "outputs": [],
   "source": [
    "from windy import WindyGridWorld\n",
    "import numpy as np\n",
    "from collections import deque\n",
    "import pickle\n",
    "import matplotlib.pyplot as plt"
   ]
  },
  {
   "cell_type": "code",
   "execution_count": null,
   "metadata": {
    "collapsed": true
   },
   "outputs": [],
   "source": [
    "def discounted_reward(rewards, gamma=0.95):\n",
    "    r = np.asarray(rewards)\n",
    "    g = np.full_like(rewards, gamma, dtype=np.float64) ** np.arange(len(rewards))\n",
    "    return np.sum(r * g)"
   ]
  },
  {
   "cell_type": "code",
   "execution_count": null,
   "metadata": {
    "collapsed": true
   },
   "outputs": [],
   "source": [
    "def epsilon_greedy_policy(q_vector, epsilon):\n",
    "    is_greedy_action = False if np.random.uniform() <= epsilon else True\n",
    "    if is_greedy_action:\n",
    "        #Random choice, if there are at least 2 Q-s with the same values\n",
    "        # TODO: Check, if randomizing the q_vector in lookup_action_value() around 0, what would happen\n",
    "        max_q_args = np.argwhere(q_vector == np.amax(q_vector))\n",
    "        if len(max_q_args) > 1:\n",
    "            action = np.random.choice(max_q_args.ravel(), 1)[0] + 1\n",
    "        else:\n",
    "            action = np.argmax(q_vector) + 1\n",
    "    else:\n",
    "        action = np.random.randint(1, 5)\n",
    "    return action"
   ]
  },
  {
   "cell_type": "code",
   "execution_count": null,
   "metadata": {
    "collapsed": true
   },
   "outputs": [],
   "source": [
    "def random_policy():\n",
    "    return np.random.randint(1, 9)"
   ]
  },
  {
   "cell_type": "code",
   "execution_count": null,
   "metadata": {
    "collapsed": true
   },
   "outputs": [],
   "source": [
    "def action_value_update(q, discounted_reward, n):\n",
    "    return q + (discounted_reward - q) / n"
   ]
  },
  {
   "cell_type": "code",
   "execution_count": null,
   "metadata": {
    "collapsed": true
   },
   "outputs": [],
   "source": [
    "def lookup_action_value(state):\n",
    "    if state not in action_values_table:\n",
    "        action_values_table[state] = [0, 0, 0, 0]\n",
    "    return action_values_table[state]"
   ]
  },
  {
   "cell_type": "code",
   "execution_count": null,
   "metadata": {
    "collapsed": true
   },
   "outputs": [],
   "source": [
    "def lookup_action_value_wo_update(state):\n",
    "    av = action_values_table.get(state)\n",
    "    return av if av else [0, 0, 0, 0]"
   ]
  },
  {
   "cell_type": "code",
   "execution_count": null,
   "metadata": {
    "collapsed": true
   },
   "outputs": [],
   "source": [
    "def show_moves(visited_states):\n",
    "    arr = np.asarray(visited_states).T\n",
    "    ax = plt.gca()\n",
    "    plt.scatter(arr[1], arr[0])\n",
    "    plt.quiver(arr[1,:-1],arr[0,:-1],arr[1,1:]-arr[1,:-1],arr[0,1:]-arr[0,:-1], scale_units='xy', angles='xy', scale=1)\n",
    "    ax.set_xticks(np.arange(0.5, 7.5), minor=True)\n",
    "    ax.set_yticks(np.arange(0.5, 7.5), minor=True)\n",
    "    plt.xlim(0.5 ,7.5)\n",
    "    plt.ylim(0.5, 7.5)\n",
    "    ax.invert_yaxis()\n",
    "    ax.get_xaxis().set_tick_params(labeltop=\"on\", labelbottom=\"off\")\n",
    "    plt.grid(which=\"minor\")\n",
    "    plt.show()"
   ]
  },
  {
   "cell_type": "code",
   "execution_count": null,
   "metadata": {
    "collapsed": false
   },
   "outputs": [],
   "source": [
    "action_values_table = {}\n",
    "#with open(\"c:\\\\Work\\\\Jupyter\\\\2048\\\\action_value_dict.p\", \"rb\") as f:\n",
    "#    action_values_table = pickle.load(f)\n",
    "\n",
    "epsilon = 1\n",
    "episode_number = 0\n",
    "\n",
    "#Külső ciklus\n",
    "for _ in range(1000):\n",
    "    episode_number += 1\n",
    "    epsilon = 1 / np.sqrt(episode_number)\n",
    "    # Containers\n",
    "    agent_positions = deque()\n",
    "    states_reward_list = []\n",
    "    actions_deque = deque()\n",
    "    # End bool\n",
    "    is_ended = False\n",
    "    # New game\n",
    "    game = WindyGridWorld((7, 7),(7, 7),(0, 1, 1, 2, 2, -1, 0), (4, 1))\n",
    "    current_pos = game.current_pos()\n",
    "    #Belső ciklus\n",
    "    while not is_ended:\n",
    "        \n",
    "        # Append current agent position\n",
    "        agent_positions.append(current_pos)\n",
    "\n",
    "        # Lookup action value belonging to current state\n",
    "        action_value_vector = lookup_action_value(current_pos)\n",
    "\n",
    "        # Choose action based on current action value vector and epsilon\n",
    "        action = epsilon_greedy_policy(action_value_vector, epsilon)\n",
    "        # Append action\n",
    "        actions_deque.append(action)\n",
    "\n",
    "        # Make the move in game (environment)\n",
    "        current_pos, reward, is_ended =game.step(action)\n",
    "        #game.move(action)\n",
    "        # Get next state, reward\n",
    "        #game_state, reward, is_ended = game.table_as_array(), game.reward(), game.is_ended()\n",
    "\n",
    "        # Append reward\n",
    "        states_reward_list.append(reward)\n",
    "\n",
    "    # Update action values loop\n",
    "    for i, (state, action) in enumerate(zip(agent_positions, actions_deque)):\n",
    "        action_value_vect = lookup_action_value(state)\n",
    "        disc_rew = discounted_reward(states_reward_list[i:])\n",
    "        q = action_values_table[state][action - 1]\n",
    "        action_values_table[state][action - 1] = action_value_update(q, disc_rew, len(states_reward_list[i:]))\n",
    "    \n",
    "    # Check after some games\n",
    "    print(\"-\", end=\"\")\n",
    "    if episode_number % 100 == 0:\n",
    "        print(str(episode_number) + \". játék\")\n",
    "        print(\"Lépések száma: \" + str(len(actions_deque)))\n",
    "        #with open(\"c:\\\\Work\\\\Jupyter\\\\rl_games\\\\2048\\\\action_value_dict_-10_reward.p\", \"wb\") as f:\n",
    "        #    pickle.dump(action_values_table, f)\n"
   ]
  },
  {
   "cell_type": "code",
   "execution_count": null,
   "metadata": {
    "collapsed": true
   },
   "outputs": [],
   "source": [
    "def try_table():\n",
    "    game = WindyGridWorld((7, 7),(7, 7),(0, 1, 1, 2, 2, -1, 0), (4, 1))\n",
    "    current_pos = game.current_pos()\n",
    "    is_ended = False\n",
    "    agent_positions = deque()\n",
    "    states_reward_list = []\n",
    "    actions_deque = deque()\n",
    "    epsilon = 0.001\n",
    "    \n",
    "    while not is_ended:\n",
    "        \n",
    "# Append current agent position\n",
    "        agent_positions.append(current_pos)\n",
    "\n",
    "        # Lookup action value belonging to current state\n",
    "        action_value_vector = lookup_action_value(current_pos)\n",
    "\n",
    "        # Choose action based on current action value vector and epsilon\n",
    "        action = epsilon_greedy_policy(action_value_vector, epsilon)\n",
    "        # Append action\n",
    "        actions_deque.append(action)\n",
    "\n",
    "        # Get next state, reward\n",
    "        current_pos, reward, is_ended = game.step(action)\n",
    "    \n",
    "    return agent_positions, actions_deque, current_pos"
   ]
  },
  {
   "cell_type": "code",
   "execution_count": null,
   "metadata": {
    "collapsed": false
   },
   "outputs": [],
   "source": [
    "a, b, c = try_table()\n",
    "a.append(c)\n",
    "show_moves(a)"
   ]
  }
 ],
 "metadata": {
  "anaconda-cloud": {},
  "kernelspec": {
   "display_name": "Python [default]",
   "language": "python",
   "name": "python3"
  },
  "language_info": {
   "codemirror_mode": {
    "name": "ipython",
    "version": 3
   },
   "file_extension": ".py",
   "mimetype": "text/x-python",
   "name": "python",
   "nbconvert_exporter": "python",
   "pygments_lexer": "ipython3",
   "version": "3.5.2"
  }
 },
 "nbformat": 4,
 "nbformat_minor": 1
}
