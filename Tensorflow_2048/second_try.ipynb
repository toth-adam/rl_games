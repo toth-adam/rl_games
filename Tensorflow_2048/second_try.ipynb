{
 "cells": [
  {
   "cell_type": "code",
   "execution_count": null,
   "metadata": {
    "collapsed": false
   },
   "outputs": [],
   "source": [
    "import tensorflow as tf\n",
    "from twenty_forty_eight_linux import TwentyFortyEight\n",
    "from collections import deque\n",
    "import numpy as np"
   ]
  },
  {
   "cell_type": "code",
   "execution_count": null,
   "metadata": {
    "collapsed": false
   },
   "outputs": [],
   "source": [
    "# Policy neural network hyperparameters\n",
    "INPUT_DIM = 16\n",
    "HIDDEN_LAYER_UNITS = 30\n",
    "OUTPUT_DIM = 4\n",
    "# Value function neural network hyperparameters\n",
    "VF_HIDDEN_LAYER_UNITS = 20\n",
    "VF_OUTPUT_DIM = 1\n",
    "# RMSProp hyperparameters (Policy)\n",
    "LEARNING_RATE = 0.0003\n",
    "DECAY_FACTOR = 0.9\n",
    "# RMSProp hyperparameters (Value function)\n",
    "VF_LEARNING_RATE = 0.001\n",
    "VF_DECAY_FACTOR = 0.9\n",
    "# RL hyperparameters\n",
    "GAMMA = 0.95"
   ]
  },
  {
   "cell_type": "code",
   "execution_count": null,
   "metadata": {
    "collapsed": true
   },
   "outputs": [],
   "source": [
    "# Game constants\n",
    "POSSIBLE_ACTIONS = np.arange(1, 5)"
   ]
  },
  {
   "cell_type": "markdown",
   "metadata": {
    "collapsed": true
   },
   "source": [
    "# Session"
   ]
  },
  {
   "cell_type": "code",
   "execution_count": null,
   "metadata": {
    "collapsed": true
   },
   "outputs": [],
   "source": [
    "sess = tf.InteractiveSession()"
   ]
  },
  {
   "cell_type": "markdown",
   "metadata": {},
   "source": [
    "# Graph building"
   ]
  },
  {
   "cell_type": "markdown",
   "metadata": {},
   "source": [
    "### Input & direction placeholders"
   ]
  },
  {
   "cell_type": "code",
   "execution_count": null,
   "metadata": {
    "collapsed": false
   },
   "outputs": [],
   "source": [
    "# Policy network\n",
    "state = tf.placeholder(tf.float32, shape=[None, INPUT_DIM], name=\"state_tensor\")\n",
    "direction = tf.placeholder(tf.float32, shape=[None, OUTPUT_DIM], name=\"direction_label\")\n",
    "advantage_value = tf.placeholder(tf.float32, shape=[None, 1], name=\"advantage_value\")\n",
    "# Value function network\n",
    "reward = tf.placeholder(tf.float32, shape=[None, 1], name=\"reward\")\n",
    "prev_state_val = tf.placeholder(tf.float32, shape=(), name=\"previous_state_value\")"
   ]
  },
  {
   "cell_type": "markdown",
   "metadata": {},
   "source": [
    "### Weights and biases (Xavier)"
   ]
  },
  {
   "cell_type": "code",
   "execution_count": null,
   "metadata": {
    "collapsed": false
   },
   "outputs": [],
   "source": [
    "# Policy weights and biases\n",
    "W1 = tf.get_variable(\"W1\", shape=(INPUT_DIM, HIDDEN_LAYER_UNITS), initializer=tf.contrib.layers.xavier_initializer(False))\n",
    "W2 = tf.get_variable(\"W2\", shape=(HIDDEN_LAYER_UNITS, OUTPUT_DIM), initializer=tf.contrib.layers.xavier_initializer(False))\n",
    "B1 = tf.get_variable(\"B1\", shape=(1, HIDDEN_LAYER_UNITS), initializer=tf.contrib.layers.xavier_initializer(False))\n",
    "B2 = tf.get_variable(\"B2\", shape=(1, OUTPUT_DIM), initializer=tf.contrib.layers.xavier_initializer(False))\n",
    "# Value function weights and biases\n",
    "VW1 = tf.get_variable(\"VW1\", shape=(INPUT_DIM, VF_HIDDEN_LAYER_UNITS), initializer=tf.contrib.layers.xavier_initializer(False))\n",
    "VW2 = tf.get_variable(\"VW2\", shape=(VF_HIDDEN_LAYER_UNITS, VF_OUTPUT_DIM), initializer=tf.contrib.layers.xavier_initializer(False))\n",
    "VB1 = tf.get_variable(\"VB1\", shape=(1, VF_HIDDEN_LAYER_UNITS), initializer=tf.contrib.layers.xavier_initializer(False))\n",
    "VB2 = tf.get_variable(\"VB2\", shape=(1, VF_OUTPUT_DIM), initializer=tf.contrib.layers.xavier_initializer(False))"
   ]
  },
  {
   "cell_type": "markdown",
   "metadata": {},
   "source": [
    "### Weights and biases (Near zero random)"
   ]
  },
  {
   "cell_type": "code",
   "execution_count": null,
   "metadata": {
    "collapsed": false
   },
   "outputs": [],
   "source": [
    "#W1 = tf.Variable(tf.random_normal((INPUT_DIM, HIDDEN_LAYER_UNITS), stddev=0.001), name=\"W1\")\n",
    "#W2 = tf.Variable(tf.random_normal((HIDDEN_LAYER_UNITS, OUTPUT_DIM), stddev=0.001), name=\"W2\")\n",
    "#B1 = tf.Variable(tf.random_normal((HIDDEN_LAYER_UNITS,), stddev=0.001), name=\"B1\")\n",
    "#B2 = tf.Variable(tf.random_normal((OUTPUT_DIM,), stddev=0.001), name=\"B2\")\n",
    "#VW1 = "
   ]
  },
  {
   "cell_type": "markdown",
   "metadata": {},
   "source": [
    "### Neural network operations"
   ]
  },
  {
   "cell_type": "markdown",
   "metadata": {},
   "source": [
    "#### Policy"
   ]
  },
  {
   "cell_type": "code",
   "execution_count": null,
   "metadata": {
    "collapsed": false
   },
   "outputs": [],
   "source": [
    "h1 = tf.add(tf.matmul(state, W1), B1)\n",
    "activation_hidden = tf.nn.relu(h1)\n",
    "output = tf.add(tf.matmul(activation_hidden, W2), B2)"
   ]
  },
  {
   "cell_type": "code",
   "execution_count": null,
   "metadata": {
    "collapsed": true
   },
   "outputs": [],
   "source": [
    "output_softmax = tf.nn.softmax(output)"
   ]
  },
  {
   "cell_type": "markdown",
   "metadata": {},
   "source": [
    "#### Value function"
   ]
  },
  {
   "cell_type": "code",
   "execution_count": null,
   "metadata": {
    "collapsed": true
   },
   "outputs": [],
   "source": [
    "vf_h1 = tf.add(tf.matmul(state, VW1), VB1)\n",
    "vf_activation_hidden = tf.nn.relu(vf_h1)\n",
    "vf_output = tf.add(tf.matmul(vf_activation_hidden, VW2), VB2)\n",
    "vf_output_unit = tf.reduce_sum(vf_output)"
   ]
  },
  {
   "cell_type": "markdown",
   "metadata": {
    "collapsed": true
   },
   "source": [
    "### Loss calculation"
   ]
  },
  {
   "cell_type": "markdown",
   "metadata": {},
   "source": [
    "#### Policy (Cross-entropy)"
   ]
  },
  {
   "cell_type": "code",
   "execution_count": null,
   "metadata": {
    "collapsed": true
   },
   "outputs": [],
   "source": [
    "loss = tf.reduce_mean(tf.nn.softmax_cross_entropy_with_logits(output, direction))\n",
    "loss_function = tf.summary.scalar(\"loss_func\", loss) # Summary op for TensorBoard"
   ]
  },
  {
   "cell_type": "markdown",
   "metadata": {},
   "source": [
    "#### Value function (TD-error)"
   ]
  },
  {
   "cell_type": "code",
   "execution_count": null,
   "metadata": {
    "collapsed": true
   },
   "outputs": [],
   "source": [
    "vf_loss = tf.subtract(reward + GAMMA * vf_output_unit, prev_state_val)"
   ]
  },
  {
   "cell_type": "markdown",
   "metadata": {},
   "source": [
    "### RMSPropOptimizer (Policy & value function)"
   ]
  },
  {
   "cell_type": "code",
   "execution_count": null,
   "metadata": {
    "collapsed": true
   },
   "outputs": [],
   "source": [
    "train_opt = tf.train.RMSPropOptimizer(LEARNING_RATE, decay=DECAY_FACTOR)\n",
    "vf_train_opt = tf.train.RMSPropOptimizer(VF_LEARNING_RATE, decay=VF_DECAY_FACTOR)"
   ]
  },
  {
   "cell_type": "markdown",
   "metadata": {},
   "source": [
    "### Gradient calculation (Policy & value function)"
   ]
  },
  {
   "cell_type": "code",
   "execution_count": null,
   "metadata": {
    "collapsed": false
   },
   "outputs": [],
   "source": [
    "# Policy (we use negative loss, since we want gradient ASCENT)\n",
    "train_grad = train_opt.compute_gradients(-loss, [W1, W2, B1, B2])\n",
    "# Neural network\n",
    "vf_train_grad = vf_train_opt.compute_gradients(vf_loss, [VW1, VW2, VB1, VB2])"
   ]
  },
  {
   "cell_type": "markdown",
   "metadata": {
    "collapsed": true
   },
   "source": [
    "### Gradient modulation"
   ]
  },
  {
   "cell_type": "code",
   "execution_count": null,
   "metadata": {
    "collapsed": false
   },
   "outputs": [],
   "source": [
    "modulated_grads = [tf.multiply(advantage_value, g[0]) for g in train_grad]"
   ]
  },
  {
   "cell_type": "markdown",
   "metadata": {},
   "source": [
    "### Apply modulated gradients"
   ]
  },
  {
   "cell_type": "code",
   "execution_count": null,
   "metadata": {
    "collapsed": false
   },
   "outputs": [],
   "source": [
    "train_apply_grad = train_opt.apply_gradients([(mod_grad, grads_and_vars[1]) for mod_grad, grads_and_vars in\n",
    "                                              zip(modulated_grads, train_grad)])\n",
    "# Value function\n",
    "vf_apply_grad = vf_train_opt.apply_gradients(vf_train_grad)"
   ]
  },
  {
   "cell_type": "markdown",
   "metadata": {},
   "source": [
    "# Training"
   ]
  },
  {
   "cell_type": "markdown",
   "metadata": {},
   "source": [
    "### Initialization"
   ]
  },
  {
   "cell_type": "code",
   "execution_count": null,
   "metadata": {
    "collapsed": true
   },
   "outputs": [],
   "source": [
    "tf.global_variables_initializer().run()"
   ]
  },
  {
   "cell_type": "markdown",
   "metadata": {},
   "source": [
    "### FileWriter for TensorBoard"
   ]
  },
  {
   "cell_type": "code",
   "execution_count": null,
   "metadata": {
    "collapsed": true
   },
   "outputs": [],
   "source": [
    "summary = tf.summary.FileWriter(\"d:\\\\Coding\\\\Tensorflow_log\\\\2048\", sess.graph)\n",
    "merged = tf.summary.merge_all() # Merge all summary operations (In this case we only have loss_func)"
   ]
  },
  {
   "cell_type": "markdown",
   "metadata": {},
   "source": [
    "## Game "
   ]
  },
  {
   "cell_type": "code",
   "execution_count": null,
   "metadata": {
    "collapsed": false
   },
   "outputs": [],
   "source": [
    "def initialize_game():\n",
    "    return TwentyFortyEight(4, 4)\n",
    "\n",
    "def game_state(g):\n",
    "    return np.asarray(g.table_as_array(), dtype=np.float32).reshape(1, 16)\n",
    "\n",
    "def direction_vector(action):\n",
    "    return np.eye(4, dtype=np.float32)[action - 1].reshape(1, 4)\n",
    "\n",
    "def discounted_rewards(r):\n",
    "    gamma_vector = (GAMMA ** np.arange(len(r)))[::-1]\n",
    "    rewards = np.asarray(r, dtype=np.float32)\n",
    "    discounted = np.zeros_like(r, dtype=np.float32)\n",
    "    for i in range(len(r)):\n",
    "        discounted[i] =np.sum(rewards[i:] * gamma_vector[i:][::-1])\n",
    "    return discounted.reshape(len(r), 1)"
   ]
  },
  {
   "cell_type": "markdown",
   "metadata": {},
   "source": [
    "### Training steps"
   ]
  },
  {
   "cell_type": "code",
   "execution_count": null,
   "metadata": {
    "collapsed": false
   },
   "outputs": [],
   "source": [
    "ep_number = 0\n",
    "for _ in range(200):\n",
    "    # Initialize game\n",
    "    game = initialize_game()\n",
    "    states_input_deque, actions_deque, rewards_deque = deque(), deque(), deque()\n",
    "    is_ended = False\n",
    "    no_of_steps = 0\n",
    "    \n",
    "    current_state = game_state(game)\n",
    "    \n",
    "    while not is_ended:\n",
    "        # Append current game state\n",
    "        states_input_deque.append(current_state)\n",
    "\n",
    "        # Choose action from the network and append it to the actions_deque\n",
    "        action_distribution = sess.run(output_softmax, feed_dict={state: current_state})\n",
    "        action = np.random.choice(POSSIBLE_ACTIONS, 1, p=action_distribution.ravel())[0]\n",
    "        actions_deque.append(action)\n",
    "\n",
    "        # Make the move in the game\n",
    "        game.move(action)\n",
    "        no_of_steps += 1\n",
    "\n",
    "        # Get next state, reward\n",
    "        current_state, reward, is_ended = game_state(game), game.reward(), game.is_ended()\n",
    "\n",
    "        # Append rewards\n",
    "        rewards_deque.append(reward)\n",
    "\n",
    "        # TODO: FINISH PER-STEP UPDATE ALOGRITHM"
   ]
  },
  {
   "cell_type": "markdown",
   "metadata": {},
   "source": [
    "### Flush out data to disk"
   ]
  },
  {
   "cell_type": "code",
   "execution_count": null,
   "metadata": {
    "collapsed": true
   },
   "outputs": [],
   "source": [
    "summary.flush()"
   ]
  }
 ],
 "metadata": {
  "anaconda-cloud": {},
  "kernelspec": {
   "display_name": "Python [conda env:tf]",
   "language": "python",
   "name": "conda-env-tf-py"
  },
  "language_info": {
   "codemirror_mode": {
    "name": "ipython",
    "version": 3
   },
   "file_extension": ".py",
   "mimetype": "text/x-python",
   "name": "python",
   "nbconvert_exporter": "python",
   "pygments_lexer": "ipython3",
   "version": "3.5.2"
  }
 },
 "nbformat": 4,
 "nbformat_minor": 2
}
