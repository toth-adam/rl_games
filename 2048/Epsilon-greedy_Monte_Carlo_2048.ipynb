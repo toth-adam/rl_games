{
 "cells": [
  {
   "cell_type": "code",
   "execution_count": 1,
   "metadata": {
    "collapsed": true
   },
   "outputs": [],
   "source": [
    "from twenty_forty_eight_linux import TwentyFortyEight\n",
    "import numpy as np\n",
    "#from scipy.stats import rv_discrete\n",
    "from collections import deque\n",
    "import pickle\n",
    "import logging"
   ]
  },
  {
   "cell_type": "code",
   "execution_count": 2,
   "metadata": {
    "collapsed": true
   },
   "outputs": [],
   "source": [
    "def discounted_reward(rewards, gamma=0.95):\n",
    "    r = np.asarray(rewards)\n",
    "    g = np.full_like(rewards, gamma, dtype=np.float64) ** np.arange(len(rewards))\n",
    "    return np.sum(r * g)"
   ]
  },
  {
   "cell_type": "code",
   "execution_count": 3,
   "metadata": {
    "collapsed": true
   },
   "outputs": [],
   "source": [
    "def epsilon_greedy_policy(q_vector, epsilon):\n",
    "    prob_max = epsilon / 4 + 1 - epsilon\n",
    "    prob_random = epsilon / 4\n",
    "    is_greedy_action = False if np.random.uniform() <= epsilon else True\n",
    "    if is_greedy_action:\n",
    "        #Random choice, if there are at least 2 Q-s with the same values\n",
    "        # TODO: Check, if randomizing the q_vector in lookup_action_value() around 0, what would happen\n",
    "        max_q_args = np.argwhere(q_vector == np.amax(q_vector))\n",
    "        if len(max_q_args) > 1:\n",
    "            action = np.random.choice(max_q_args.ravel(), 1)[0] + 1\n",
    "        else:\n",
    "            action = np.argmax(q_vector) + 1\n",
    "    else:\n",
    "        action = np.random.randint(1, 5)\n",
    "    return action"
   ]
  },
  {
   "cell_type": "code",
   "execution_count": 4,
   "metadata": {
    "collapsed": true
   },
   "outputs": [],
   "source": [
    "def action_value_update(q, discounted_reward, n):\n",
    "    return q + (discounted_reward - q) / n"
   ]
  },
  {
   "cell_type": "code",
   "execution_count": 5,
   "metadata": {
    "collapsed": true
   },
   "outputs": [],
   "source": [
    "def lookup_action_value(state):\n",
    "    if state not in action_values_table:\n",
    "        action_values_table[state] = [0, 0, 0, 0]\n",
    "    return action_values_table[state]"
   ]
  },
  {
   "cell_type": "code",
   "execution_count": 6,
   "metadata": {
    "collapsed": true
   },
   "outputs": [],
   "source": [
    "def lookup_action_value_wo_update(state):\n",
    "    av = action_values_table.get(state)\n",
    "    return av if av else [0, 0, 0, 0]"
   ]
  },
  {
   "cell_type": "code",
   "execution_count": null,
   "metadata": {
    "collapsed": false,
    "scrolled": false
   },
   "outputs": [],
   "source": [
    "action_values_table = {}\n",
    "#with open(\"c:\\\\Work\\\\Jupyter\\\\2048\\\\action_value_dict.p\", \"rb\") as f:\n",
    "#    action_values_table = pickle.load(f)\n",
    "\n",
    "epsilon = 1\n",
    "episode_number = 0\n",
    "\n",
    "#Külső ciklus\n",
    "for _ in range(8000):\n",
    "    print(\"-\", end=\"\")\n",
    "    episode_number += 1\n",
    "    if episode_number % 500 == 0:\n",
    "        print(str(episode_number) + \". játék\")\n",
    "        print(\"Lépések száma: \" + str(len(actions_deque)))\n",
    "        print(\"Maximum kocka: \" + str(max(game_state)))\n",
    "        \n",
    "        with open(\"c:\\\\Work\\\\Jupyter\\\\2048\\\\action_value_dict_-10_reward.p\", \"wb\") as f:\n",
    "            pickle.dump(action_values_table, f)\n",
    "\n",
    "    epsilon = 1 / episode_number\n",
    "    # Containers\n",
    "    states_input_deque = deque()\n",
    "    states_reward_list = []\n",
    "    actions_deque = deque()\n",
    "    # End bool\n",
    "    is_ended = False\n",
    "    # New game\n",
    "    game = TwentyFortyEight(4, 4)\n",
    "    game_state = game.table_as_array()\n",
    "    #Belső ciklus\n",
    "    while not is_ended:\n",
    "        # Append current game state\n",
    "        states_input_deque.append(game_state)\n",
    "\n",
    "        # Lookup action value belonging to current state\n",
    "        action_value_vector = lookup_action_value(game_state)\n",
    "\n",
    "        # Choose action based on current action value vector and epsilon\n",
    "        action = epsilon_greedy_policy(action_value_vector, epsilon)\n",
    "        # Append action\n",
    "        actions_deque.append(action)\n",
    "\n",
    "        # Make the move in game (environment)\n",
    "        game.move(action)\n",
    "        # Get next state, reward\n",
    "        game_state, reward, is_ended = game.table_as_array(), game.reward(), game.is_ended()\n",
    "\n",
    "        # Append reward\n",
    "        states_reward_list.append(reward)\n",
    "\n",
    "    # Update action values loop\n",
    "    for i, (state, action) in enumerate(zip(states_input_deque, actions_deque)):\n",
    "        action_value_vect = lookup_action_value(state)\n",
    "        disc_rew = discounted_reward(states_reward_list[i:])\n",
    "        q = action_values_table[state][action - 1]\n",
    "        action_values_table[state][action - 1] = action_value_update(q, disc_rew, len(states_reward_list[i:]))\n"
   ]
  },
  {
   "cell_type": "code",
   "execution_count": 11,
   "metadata": {
    "collapsed": false
   },
   "outputs": [
    {
     "data": {
      "text/plain": [
       "512"
      ]
     },
     "execution_count": 11,
     "metadata": {},
     "output_type": "execute_result"
    }
   ],
   "source": [
    "ll = deque()\n",
    "for k in action_values_table.keys():\n",
    "    ll.append(max(k))\n",
    "max(ll)"
   ]
  },
  {
   "cell_type": "code",
   "execution_count": 62,
   "metadata": {
    "collapsed": false
   },
   "outputs": [
    {
     "name": "stdout",
     "output_type": "stream",
     "text": [
      "[0, 0.049557621876696947, 0, 0]\n",
      "[0, 0, 0, 0.011706483942031597]\n",
      "[0, -0.030793333788485346, 0, -0.056989276610516483]\n",
      "[0, 0, 0, -0.012301362843213282]\n",
      "[0.019017344926190935, 0, 0, 0]\n",
      "[0, 0.046853204668625081, 0, 0]\n",
      "[0, 0, 0.016144215584519096, 0]\n",
      "[0.0062272031916750063, 0.013388412209856034, 0, 0]\n",
      "[0, 0, 0.05384597928481278, 0]\n",
      "[-0.0065776768127108068, 0, 0, 0]\n",
      "[0, 0, 0.032209340821758276, 0]\n",
      "[0, 0, 0, 0.025075756475254174]\n",
      "[0, 0, -0.23508412184258323, 0]\n",
      "[0.05364018425417711, 0, 0, 0]\n"
     ]
    }
   ],
   "source": [
    "for i, k in enumerate(action_values_table.values()):\n",
    "    if 1000 < i < 1015:\n",
    "        print(k)\n",
    "    if i == 1015:\n",
    "        break\n",
    "    "
   ]
  },
  {
   "cell_type": "code",
   "execution_count": 22,
   "metadata": {
    "collapsed": false
   },
   "outputs": [
    {
     "data": {
      "text/plain": [
       "deque([])"
      ]
     },
     "execution_count": 22,
     "metadata": {},
     "output_type": "execute_result"
    }
   ],
   "source": []
  },
  {
   "cell_type": "code",
   "execution_count": 8,
   "metadata": {
    "collapsed": false
   },
   "outputs": [],
   "source": [
    "def try_table():\n",
    "    gam = TwentyFortyEight(4, 4)\n",
    "    game_state = gam.table_as_array()\n",
    "    is_ended = False\n",
    "    states_input_deque = deque()\n",
    "    states_reward_list = []\n",
    "    actions_deque = deque()\n",
    "    \n",
    "    while not is_ended:\n",
    "        # Append current game state\n",
    "        states_input_deque.append(game_state)\n",
    "\n",
    "        # Lookup action value belonging to current state\n",
    "        action_value_vector = lookup_action_value_wo_update(game_state)\n",
    "\n",
    "        # Choose action based on current action value vector and epsilon\n",
    "        action = epsilon_greedy_policy(action_value_vector, epsilon)\n",
    "        # Append action\n",
    "        actions_deque.append(action)\n",
    "\n",
    "        # Make the move in game (environment)\n",
    "        gam.move(action)\n",
    "        # Get next state, reward\n",
    "        game_state, reward, is_ended = gam.table_as_array(), gam.reward(), gam.is_ended()\n",
    "\n",
    "        # Append reward\n",
    "        states_reward_list.append(reward)\n",
    "    \n",
    "    return states_input_deque, states_reward_list, actions_deque, gam"
   ]
  },
  {
   "cell_type": "code",
   "execution_count": 94,
   "metadata": {
    "collapsed": false
   },
   "outputs": [],
   "source": [
    "with open(\"/home/atoth/Jupyter_notebooks/2048/action_value_dict_2016_10_08_19_10.p\", \"rb\") as f:\n",
    "    action_values_table = pickle.load(f)"
   ]
  },
  {
   "cell_type": "code",
   "execution_count": 92,
   "metadata": {
    "collapsed": false
   },
   "outputs": [
    {
     "data": {
      "text/plain": [
       "263.91866666666664"
      ]
     },
     "execution_count": 92,
     "metadata": {},
     "output_type": "execute_result"
    }
   ],
   "source": [
    "np.sum(np.asarray([sum(try_table()[0][-1]) for ga in range(3000)])) / 3000"
   ]
  },
  {
   "cell_type": "code",
   "execution_count": 106,
   "metadata": {
    "collapsed": false
   },
   "outputs": [
    {
     "data": {
      "text/plain": [
       "130"
      ]
     },
     "execution_count": 106,
     "metadata": {},
     "output_type": "execute_result"
    }
   ],
   "source": [
    "aaa = []\n",
    "for v in action_values_table.values():\n",
    "    if v.count(0) == 0:\n",
    "        aaa.append(v) \n",
    "len(aaa)"
   ]
  },
  {
   "cell_type": "code",
   "execution_count": 87,
   "metadata": {
    "collapsed": false
   },
   "outputs": [
    {
     "data": {
      "text/plain": [
       "260.60700000000003"
      ]
     },
     "execution_count": 87,
     "metadata": {},
     "output_type": "execute_result"
    }
   ],
   "source": [
    "np.sum(np.asarray([sum(try_table()[0][-1]) for ga in range(1000)])) / 1000"
   ]
  },
  {
   "cell_type": "code",
   "execution_count": 52,
   "metadata": {
    "collapsed": false
   },
   "outputs": [
    {
     "data": {
      "text/plain": [
       "924478"
      ]
     },
     "execution_count": 52,
     "metadata": {},
     "output_type": "execute_result"
    }
   ],
   "source": [
    "len(action_values_table)"
   ]
  },
  {
   "cell_type": "code",
   "execution_count": 25,
   "metadata": {
    "collapsed": true
   },
   "outputs": [],
   "source": [
    "a, b, c, gam = try_table()"
   ]
  },
  {
   "cell_type": "code",
   "execution_count": 26,
   "metadata": {
    "collapsed": false
   },
   "outputs": [
    {
     "name": "stdout",
     "output_type": "stream",
     "text": [
      "2 ,4  ,8 ,2 \n",
      "4 ,2  ,64,4 \n",
      "2 ,128,2 ,16\n",
      "16,4  ,16,4 \n"
     ]
    }
   ],
   "source": [
    "print(gam)"
   ]
  }
 ],
 "metadata": {
  "anaconda-cloud": {},
  "kernelspec": {
   "display_name": "Python [conda root]",
   "language": "python",
   "name": "conda-root-py"
  },
  "language_info": {
   "codemirror_mode": {
    "name": "ipython",
    "version": 3
   },
   "file_extension": ".py",
   "mimetype": "text/x-python",
   "name": "python",
   "nbconvert_exporter": "python",
   "pygments_lexer": "ipython3",
   "version": "3.5.2"
  }
 },
 "nbformat": 4,
 "nbformat_minor": 1
}
