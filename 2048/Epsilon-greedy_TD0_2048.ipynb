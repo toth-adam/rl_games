{
 "cells": [
  {
   "cell_type": "code",
   "execution_count": null,
   "metadata": {
    "collapsed": true
   },
   "outputs": [],
   "source": [
    "from twenty_forty_eight_linux import TwentyFortyEight\n",
    "import numpy as np\n",
    "#from scipy.stats import rv_discrete\n",
    "from collections import deque\n",
    "import pickle"
   ]
  },
  {
   "cell_type": "code",
   "execution_count": null,
   "metadata": {
    "collapsed": true
   },
   "outputs": [],
   "source": [
    "def preprocess_game_state(prev_game_state, current_game_state):\n",
    "    return tuple(np.asarray(current_game_state) / np.asarray(prev_game_state))"
   ]
  },
  {
   "cell_type": "code",
   "execution_count": null,
   "metadata": {
    "collapsed": true
   },
   "outputs": [],
   "source": [
    "def discounted_reward(rewards, gamma=0.5):\n",
    "    r = np.asarray(rewards)\n",
    "    g = np.full_like(rewards, gamma, dtype=np.float64) ** np.arange(len(rewards))\n",
    "    return np.sum(r * g)"
   ]
  },
  {
   "cell_type": "code",
   "execution_count": null,
   "metadata": {
    "collapsed": true
   },
   "outputs": [],
   "source": [
    "def epsilon_greedy_policy(q_vector, epsilon):\n",
    "    prob_max = epsilon / 4 + 1 - epsilon\n",
    "    prob_random = epsilon / 4\n",
    "    is_greedy_action = False if np.random.uniform() <= epsilon else True\n",
    "    if is_greedy_action:\n",
    "        #Random choice, if there are at least 2 Q-s with the same values\n",
    "        # TODO: Check, if randomizing the q_vector in lookup_action_value() around 0, what would happen\n",
    "        max_q_args = np.argwhere(q_vector == np.amax(q_vector))\n",
    "        if len(max_q_args) > 1:\n",
    "            action = np.random.choice(max_q_args.ravel(), 1)[0] + 1\n",
    "        else:\n",
    "            action = np.argmax(q_vector) + 1\n",
    "    else:\n",
    "        action = np.random.randint(1, 5)\n",
    "    return action"
   ]
  },
  {
   "cell_type": "code",
   "execution_count": null,
   "metadata": {
    "collapsed": true
   },
   "outputs": [],
   "source": [
    "def td0_update_action_value(current_action_value, next_action_value, reward, alpha=0.25, gamma=0.95):\n",
    "    return current_action_value + alpha * (reward + gamma * next_action_value - current_action_value)"
   ]
  },
  {
   "cell_type": "code",
   "execution_count": null,
   "metadata": {
    "collapsed": true
   },
   "outputs": [],
   "source": [
    "def td0_update(next_state, action_value_vect, action, reward, epsilon):\n",
    "    current = action_value_vect[action - 1]\n",
    "    n_action_value = lookup_action_value_wo_update(next_state)\n",
    "    n_action = epsilon_greedy_policy(n_action_value, epsilon)\n",
    "    new_q = td0_update_action_value(current, n_action_value[n_action - 1], reward)\n",
    "    action_value_vector[action - 1] = new_q\n",
    "    return action_value_vector"
   ]
  },
  {
   "cell_type": "code",
   "execution_count": null,
   "metadata": {
    "collapsed": true
   },
   "outputs": [],
   "source": [
    "def random_policy():\n",
    "    return np.random.randint(1, 5)"
   ]
  },
  {
   "cell_type": "code",
   "execution_count": null,
   "metadata": {
    "collapsed": true
   },
   "outputs": [],
   "source": [
    "def action_value_update(q, discounted_reward, n):\n",
    "    return q + (discounted_reward - q) / n"
   ]
  },
  {
   "cell_type": "code",
   "execution_count": null,
   "metadata": {
    "collapsed": true
   },
   "outputs": [],
   "source": [
    "def lookup_action_value(state):\n",
    "    if state not in action_values_table:\n",
    "        action_values_table[state] = [0, 0, 0, 0]\n",
    "    return action_values_table[state]"
   ]
  },
  {
   "cell_type": "code",
   "execution_count": null,
   "metadata": {
    "collapsed": true
   },
   "outputs": [],
   "source": [
    "def lookup_action_value_wo_update(state):\n",
    "    av = action_values_table.get(state)\n",
    "    return av if av else [0, 0, 0, 0]"
   ]
  },
  {
   "cell_type": "code",
   "execution_count": null,
   "metadata": {
    "collapsed": false,
    "scrolled": false
   },
   "outputs": [],
   "source": [
    "#action_values_table = {}\n",
    "#with open(\"c:\\\\Work\\\\Jupyter\\\\2048\\\\action_value_dict.p\", \"rb\") as f:\n",
    "#    action_values_table = pickle.load(f)\n",
    "\n",
    "epsilon = 1\n",
    "episode_number = 0\n",
    "\n",
    "#Külső ciklus\n",
    "for _ in range(20000):\n",
    "    print(\"-\", end=\"\")\n",
    "    episode_number += 1\n",
    "    if episode_number % 1000 == 0:\n",
    "        print(str(episode_number) + \". játék\")\n",
    "        print(\"Lépések száma: \" + str(len(actions_deque)))\n",
    "        print(\"Maximum kocka: \" + str(max(game_state)))\n",
    "        \n",
    "        #with open(\"c:\\\\Work\\\\Jupyter\\\\rl_games\\\\2048\\\\action_value_dict_-10_reward.p\", \"wb\") as f:\n",
    "        #    pickle.dump(action_values_table, f)\n",
    "\n",
    "    epsilon = 1 / np.sqrt(episode_number)\n",
    "    # Containers\n",
    "    states_input_deque = deque()\n",
    "    states_reward_list = []\n",
    "    actions_deque = deque()\n",
    "    # End bool\n",
    "    is_ended = False\n",
    "    # New game\n",
    "    game = TwentyFortyEight(4, 4)\n",
    "    game_state = game.table_as_array()\n",
    "    prev_game_state = tuple(np.ones(16))\n",
    "    #Belső ciklus\n",
    "    while not is_ended:\n",
    "        \n",
    "        # Append current game state diff\n",
    "        states_input_deque.append(game_state)\n",
    "\n",
    "        # Lookup action value belonging to current state\n",
    "        action_value_vector = lookup_action_value(game_state)\n",
    "\n",
    "        # Choose action based on current action value vector and epsilon\n",
    "        action = epsilon_greedy_policy(action_value_vector, epsilon)\n",
    "        # Append action\n",
    "        actions_deque.append(action)\n",
    "\n",
    "        # Make the move in game (environment)\n",
    "        game.move(action)\n",
    "        # Get next state, reward\n",
    "        game_state, reward, is_ended = game.table_as_array(), game.reward(), game.is_ended()\n",
    "\n",
    "        # Append reward\n",
    "        states_reward_list.append(reward)\n",
    "        \n",
    "        # Update action value\n",
    "        action_values_table[states_input_deque[-1]] = td0_update(game_state, action_value_vector,\n",
    "                                                                 action, reward, epsilon)\n"
   ]
  },
  {
   "cell_type": "code",
   "execution_count": null,
   "metadata": {
    "collapsed": false
   },
   "outputs": [],
   "source": [
    "len(action_values_table)"
   ]
  },
  {
   "cell_type": "code",
   "execution_count": null,
   "metadata": {
    "collapsed": false
   },
   "outputs": [],
   "source": [
    "ll = deque()\n",
    "for k in action_values_table.keys():\n",
    "    ll.append(max(k))\n",
    "max(ll)"
   ]
  },
  {
   "cell_type": "code",
   "execution_count": null,
   "metadata": {
    "collapsed": false
   },
   "outputs": [],
   "source": [
    "for i, k in enumerate(action_values_table.values()):\n",
    "    if 1000 < i < 1015:\n",
    "        print(k)\n",
    "    if i == 1015:\n",
    "        break"
   ]
  },
  {
   "cell_type": "code",
   "execution_count": null,
   "metadata": {
    "collapsed": false
   },
   "outputs": [],
   "source": [
    "def try_table():\n",
    "    gam = TwentyFortyEight(4, 4)\n",
    "    game_state = gam.table_as_array()\n",
    "    prev_game_state = tuple(np.ones(16))\n",
    "    is_ended = False\n",
    "    states_input_deque = deque()\n",
    "    states_reward_list = []\n",
    "    actions_deque = deque()\n",
    "    \n",
    "    while not is_ended:\n",
    "        \n",
    "        # Append current game state diff\n",
    "        states_input_deque.append(game_state)\n",
    "\n",
    "        # Lookup action value belonging to current state\n",
    "        action_value_vector = lookup_action_value_wo_update(game_state)\n",
    "\n",
    "        # Choose action based on random_policy\n",
    "        action = random_policy()\n",
    "        # Append action\n",
    "        actions_deque.append(action)\n",
    "\n",
    "        # Make the move in game (environment)\n",
    "        gam.move(action)\n",
    "        # Get next state, reward\n",
    "        game_state, reward, is_ended = gam.table_as_array(), gam.reward(), gam.is_ended()\n",
    "\n",
    "        # Append reward\n",
    "        states_reward_list.append(reward)\n",
    "    \n",
    "    return states_input_deque, states_reward_list, actions_deque, gam"
   ]
  },
  {
   "cell_type": "code",
   "execution_count": null,
   "metadata": {
    "collapsed": false
   },
   "outputs": [],
   "source": [
    "with open(\"/home/atoth/Jupyter_notebooks/2048/action_value_dict_2016_10_08_19_10.p\", \"rb\") as f:\n",
    "    action_values_table = pickle.load(f)"
   ]
  },
  {
   "cell_type": "code",
   "execution_count": null,
   "metadata": {
    "collapsed": false
   },
   "outputs": [],
   "source": [
    "np.sum(np.asarray([sum(try_table()[3].table_as_array()) for ga in range(3000)])) / 3000"
   ]
  },
  {
   "cell_type": "code",
   "execution_count": null,
   "metadata": {
    "collapsed": false
   },
   "outputs": [],
   "source": [
    "aaa = []\n",
    "for v in action_values_table.values():\n",
    "    if v.count(0) == 0:\n",
    "        aaa.append(v) \n",
    "len(aaa)"
   ]
  },
  {
   "cell_type": "code",
   "execution_count": null,
   "metadata": {
    "collapsed": false
   },
   "outputs": [],
   "source": [
    "np.sum(np.asarray([sum(try_table()[0][-1]) for ga in range(1000)])) / 1000"
   ]
  },
  {
   "cell_type": "code",
   "execution_count": null,
   "metadata": {
    "collapsed": true
   },
   "outputs": [],
   "source": [
    "a, b, c, gam = try_table()"
   ]
  },
  {
   "cell_type": "code",
   "execution_count": null,
   "metadata": {
    "collapsed": false
   },
   "outputs": [],
   "source": [
    "print(gam)"
   ]
  }
 ],
 "metadata": {
  "anaconda-cloud": {},
  "kernelspec": {
   "display_name": "Python [conda env:tensorflow]",
   "language": "python",
   "name": "conda-env-tensorflow-py"
  },
  "language_info": {
   "codemirror_mode": {
    "name": "ipython",
    "version": 3
   },
   "file_extension": ".py",
   "mimetype": "text/x-python",
   "name": "python",
   "nbconvert_exporter": "python",
   "pygments_lexer": "ipython3",
   "version": "3.5.2"
  }
 },
 "nbformat": 4,
 "nbformat_minor": 1
}
